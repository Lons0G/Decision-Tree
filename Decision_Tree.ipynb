{
 "cells": [
  {
   "cell_type": "markdown",
   "id": "d3aa2a97-5db7-41bc-ace0-dc9e397a58ab",
   "metadata": {},
   "source": [
    "# Proyecto Mineria de Datos (Arboles de Decision)"
   ]
  },
  {
   "cell_type": "markdown",
   "id": "0635337b-c3cf-46a9-af21-e3c318ff3d4e",
   "metadata": {},
   "source": [
    "Alumno: Angel Alonso Galarza Chavez\n",
    "Materia: Mineria de Datos\n",
    "Docente: Dra. Xiaoou Li"
   ]
  },
  {
   "cell_type": "markdown",
   "id": "0b0cad40-9c81-44da-bcf2-ddd26e15b9b3",
   "metadata": {},
   "source": [
    "## Cargando el Dataset"
   ]
  },
  {
   "cell_type": "code",
   "execution_count": 2,
   "id": "f5ba665d-d393-4d1d-bfae-5187c89cb506",
   "metadata": {},
   "outputs": [],
   "source": [
    "import pandas as pd\n",
    "import numpy as np\n",
    "import matplotlib.pyplot as plt\n",
    "\n",
    "import sklearn"
   ]
  },
  {
   "cell_type": "code",
   "execution_count": null,
   "id": "212e4842-d3ee-4aa7-b375-23fed851fef9",
   "metadata": {},
   "outputs": [],
   "source": []
  },
  {
   "cell_type": "markdown",
   "id": "0237234f-d22c-44c5-a41e-3ab892d52868",
   "metadata": {},
   "source": [
    "## Analisis Exploratorio de Datos"
   ]
  },
  {
   "cell_type": "markdown",
   "id": "8baafae0-aff5-4949-8541-4c086c55ada3",
   "metadata": {},
   "source": [
    "## Preprocesamiento de Datos"
   ]
  },
  {
   "cell_type": "markdown",
   "id": "24780a7b-f169-482f-98f3-0ebd9f2d53a6",
   "metadata": {},
   "source": [
    "## Construccion del Modelo"
   ]
  },
  {
   "cell_type": "markdown",
   "id": "113d8784-7053-4c28-afa0-8f4d0b792a83",
   "metadata": {},
   "source": [
    "## Evaluacion del Modelo"
   ]
  },
  {
   "cell_type": "markdown",
   "id": "9592c600-2ba3-4f60-a4f2-e21e8dee3518",
   "metadata": {},
   "source": [
    "## Conclusiones"
   ]
  },
  {
   "cell_type": "code",
   "execution_count": null,
   "id": "fafc667c-453c-4dcd-8d2c-254a49dcb36c",
   "metadata": {},
   "outputs": [],
   "source": []
  }
 ],
 "metadata": {
  "kernelspec": {
   "display_name": "Python 3.10 (ML)",
   "language": "python",
   "name": "main"
  },
  "language_info": {
   "codemirror_mode": {
    "name": "ipython",
    "version": 3
   },
   "file_extension": ".py",
   "mimetype": "text/x-python",
   "name": "python",
   "nbconvert_exporter": "python",
   "pygments_lexer": "ipython3",
   "version": "3.10.14"
  }
 },
 "nbformat": 4,
 "nbformat_minor": 5
}
