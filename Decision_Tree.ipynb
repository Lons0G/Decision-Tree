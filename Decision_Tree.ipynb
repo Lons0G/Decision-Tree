{
 "cells": [
  {
   "cell_type": "markdown",
   "id": "d3aa2a97-5db7-41bc-ace0-dc9e397a58ab",
   "metadata": {},
   "source": [
    "# Proyecto Mineria de Datos (Arboles de Decision)"
   ]
  },
  {
   "cell_type": "markdown",
   "id": "0635337b-c3cf-46a9-af21-e3c318ff3d4e",
   "metadata": {},
   "source": [
    "Alumno: Angel Alonso Galarza Chavez\n",
    "Materia: Mineria de Datos\n",
    "Docente: Dra. Xiaoou Li"
   ]
  },
  {
   "cell_type": "markdown",
   "id": "0b0cad40-9c81-44da-bcf2-ddd26e15b9b3",
   "metadata": {},
   "source": [
    "## Importando las bibliotecas"
   ]
  },
  {
   "cell_type": "code",
   "execution_count": 1,
   "id": "f5ba665d-d393-4d1d-bfae-5187c89cb506",
   "metadata": {},
   "outputs": [],
   "source": [
    "import pandas as pd\n",
    "import numpy as np\n",
    "import matplotlib.pyplot as plt\n",
    "\n",
    "from sklearn.tree import DecisionTreeClassifier\n",
    "from chefboost import Chefboost as chef"
   ]
  },
  {
   "cell_type": "code",
   "execution_count": null,
   "id": "212e4842-d3ee-4aa7-b375-23fed851fef9",
   "metadata": {},
   "outputs": [],
   "source": []
  },
  {
   "cell_type": "markdown",
   "id": "0237234f-d22c-44c5-a41e-3ab892d52868",
   "metadata": {},
   "source": [
    "## Analisis Exploratorio de Datos"
   ]
  },
  {
   "cell_type": "markdown",
   "id": "24468c09-ce92-4ac5-be57-40fb32956f85",
   "metadata": {},
   "source": [
    "### Cargando el Dataset"
   ]
  },
  {
   "cell_type": "code",
   "execution_count": 14,
   "id": "72ad947d-0d4e-4827-9c00-b2757ef37855",
   "metadata": {},
   "outputs": [
    {
     "data": {
      "text/html": [
       "<div>\n",
       "<style scoped>\n",
       "    .dataframe tbody tr th:only-of-type {\n",
       "        vertical-align: middle;\n",
       "    }\n",
       "\n",
       "    .dataframe tbody tr th {\n",
       "        vertical-align: top;\n",
       "    }\n",
       "\n",
       "    .dataframe thead th {\n",
       "        text-align: right;\n",
       "    }\n",
       "</style>\n",
       "<table border=\"1\" class=\"dataframe\">\n",
       "  <thead>\n",
       "    <tr style=\"text-align: right;\">\n",
       "      <th></th>\n",
       "      <th>5.1</th>\n",
       "      <th>3.5</th>\n",
       "      <th>1.4</th>\n",
       "      <th>0.2</th>\n",
       "      <th>Iris-setosa</th>\n",
       "    </tr>\n",
       "  </thead>\n",
       "  <tbody>\n",
       "    <tr>\n",
       "      <th>0</th>\n",
       "      <td>4.9</td>\n",
       "      <td>3.0</td>\n",
       "      <td>1.4</td>\n",
       "      <td>0.2</td>\n",
       "      <td>Iris-setosa</td>\n",
       "    </tr>\n",
       "    <tr>\n",
       "      <th>1</th>\n",
       "      <td>4.7</td>\n",
       "      <td>3.2</td>\n",
       "      <td>1.3</td>\n",
       "      <td>0.2</td>\n",
       "      <td>Iris-setosa</td>\n",
       "    </tr>\n",
       "    <tr>\n",
       "      <th>2</th>\n",
       "      <td>4.6</td>\n",
       "      <td>3.1</td>\n",
       "      <td>1.5</td>\n",
       "      <td>0.2</td>\n",
       "      <td>Iris-setosa</td>\n",
       "    </tr>\n",
       "    <tr>\n",
       "      <th>3</th>\n",
       "      <td>5.0</td>\n",
       "      <td>3.6</td>\n",
       "      <td>1.4</td>\n",
       "      <td>0.2</td>\n",
       "      <td>Iris-setosa</td>\n",
       "    </tr>\n",
       "    <tr>\n",
       "      <th>4</th>\n",
       "      <td>5.4</td>\n",
       "      <td>3.9</td>\n",
       "      <td>1.7</td>\n",
       "      <td>0.4</td>\n",
       "      <td>Iris-setosa</td>\n",
       "    </tr>\n",
       "  </tbody>\n",
       "</table>\n",
       "</div>"
      ],
      "text/plain": [
       "   5.1  3.5  1.4  0.2  Iris-setosa\n",
       "0  4.9  3.0  1.4  0.2  Iris-setosa\n",
       "1  4.7  3.2  1.3  0.2  Iris-setosa\n",
       "2  4.6  3.1  1.5  0.2  Iris-setosa\n",
       "3  5.0  3.6  1.4  0.2  Iris-setosa\n",
       "4  5.4  3.9  1.7  0.4  Iris-setosa"
      ]
     },
     "execution_count": 14,
     "metadata": {},
     "output_type": "execute_result"
    }
   ],
   "source": [
    "# Con la biblioteca pandas para manejo de datos, se cargan los datos del dataset Iris a la variable df_iris\n",
    "df_iris = pd.read_csv('../Datasets/iris/iris.data')\n",
    "df_iris.head()"
   ]
  },
  {
   "cell_type": "code",
   "execution_count": null,
   "id": "a1ef6afe-2574-4498-9a85-270b008a2239",
   "metadata": {},
   "outputs": [],
   "source": []
  },
  {
   "cell_type": "markdown",
   "id": "8baafae0-aff5-4949-8541-4c086c55ada3",
   "metadata": {
    "jp-MarkdownHeadingCollapsed": true
   },
   "source": [
    "## Preprocesamiento de Datos"
   ]
  },
  {
   "cell_type": "markdown",
   "id": "9e7173c4-b952-4085-97cb-be2352d3fc36",
   "metadata": {},
   "source": [
    "### Limpieza de los datos"
   ]
  },
  {
   "cell_type": "markdown",
   "id": "bcf3102f-8618-4d11-b6ef-f73cebd0ea48",
   "metadata": {},
   "source": [
    "### Transformacion de los datos"
   ]
  },
  {
   "cell_type": "markdown",
   "id": "24780a7b-f169-482f-98f3-0ebd9f2d53a6",
   "metadata": {},
   "source": [
    "## Construccion del Modelo"
   ]
  },
  {
   "cell_type": "markdown",
   "id": "113d8784-7053-4c28-afa0-8f4d0b792a83",
   "metadata": {},
   "source": [
    "## Evaluacion del Modelo"
   ]
  },
  {
   "cell_type": "code",
   "execution_count": 17,
   "id": "0655e412-ed30-4536-8ab2-ac539adf3af0",
   "metadata": {},
   "outputs": [],
   "source": [
    "### Metricas a utlizar"
   ]
  },
  {
   "cell_type": "markdown",
   "id": "9592c600-2ba3-4f60-a4f2-e21e8dee3518",
   "metadata": {},
   "source": [
    "## Conclusiones"
   ]
  },
  {
   "cell_type": "code",
   "execution_count": null,
   "id": "fafc667c-453c-4dcd-8d2c-254a49dcb36c",
   "metadata": {},
   "outputs": [],
   "source": []
  }
 ],
 "metadata": {
  "kernelspec": {
   "display_name": "Python 3.10 (ML)",
   "language": "python",
   "name": "main"
  },
  "language_info": {
   "codemirror_mode": {
    "name": "ipython",
    "version": 3
   },
   "file_extension": ".py",
   "mimetype": "text/x-python",
   "name": "python",
   "nbconvert_exporter": "python",
   "pygments_lexer": "ipython3",
   "version": "3.10.14"
  }
 },
 "nbformat": 4,
 "nbformat_minor": 5
}
